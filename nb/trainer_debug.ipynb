{
 "cells": [
  {
   "cell_type": "code",
   "execution_count": 1,
   "metadata": {},
   "outputs": [],
   "source": [
    "!rm -rf ../logs/"
   ]
  },
  {
   "cell_type": "code",
   "execution_count": 2,
   "metadata": {},
   "outputs": [],
   "source": [
    "import sys\n",
    "sys.path.append('../')\n",
    "from src.utils import create_env\n",
    "from src.network import Net\n",
    "from src.agent import Agent\n",
    "from src.trainer import Trainer"
   ]
  },
  {
   "cell_type": "code",
   "execution_count": 3,
   "metadata": {},
   "outputs": [],
   "source": [
    "import gym\n",
    "import torch\n",
    "from tensorboardX import SummaryWriter\n",
    "import numpy as np\n",
    "import matplotlib.pyplot as plt\n",
    "%matplotlib inline"
   ]
  },
  {
   "cell_type": "code",
   "execution_count": 4,
   "metadata": {},
   "outputs": [
    {
     "name": "stdout",
     "output_type": "stream",
     "text": [
      "env_pool of size 8 and test env initialized.\n",
      "SubprocVecEnv worker: got KeyboardInterrupt\n",
      "SubprocVecEnv worker: got KeyboardInterrupt\n",
      "SubprocVecEnv worker: got KeyboardInterrupt\n",
      "SubprocVecEnv worker: got KeyboardInterrupt\n",
      "SubprocVecEnv worker: got KeyboardInterrupt\n",
      "SubprocVecEnv worker: got KeyboardInterrupt\n",
      "SubprocVecEnv worker: got KeyboardInterrupt\n",
      "SubprocVecEnv worker: got KeyboardInterrupt\n"
     ]
    }
   ],
   "source": [
    "num_envs = 8\n",
    "vec_env, env = create_env(num_envs)\n",
    "writer = SummaryWriter('../logs/')"
   ]
  },
  {
   "cell_type": "code",
   "execution_count": 5,
   "metadata": {},
   "outputs": [
    {
     "name": "stdout",
     "output_type": "stream",
     "text": [
      "agent initialized with normal policy\n"
     ]
    }
   ],
   "source": [
    "train_var = False\n",
    "net = Net(train_var)\n",
    "device = torch.device('cpu')\n",
    "# normal and tanh does not work\n",
    "distribution = 'normal'\n",
    "lr = 3e-4\n",
    "agent = Agent(net, device, distribution)\n",
    "optimizer = torch.optim.SGD(net.parameters(), lr)"
   ]
  },
  {
   "cell_type": "code",
   "execution_count": 6,
   "metadata": {},
   "outputs": [
    {
     "name": "stdout",
     "output_type": "stream",
     "text": [
      "trainer initialized\n",
      "training parameters:\n",
      "\t value_loss: mse, gamma: 0.995, entropy_reg: 0.0001\n",
      "\t use_gae: False, gae_lambda: 0.95, normalize_adv: False\n",
      "\t ppo_batch_size: 40, ppo_epochs: 5\n"
     ]
    }
   ],
   "source": [
    "num_tests = 1\n",
    "value_loss = 'mse'\n",
    "entropy = 1e-4\n",
    "gamma = 0.995\n",
    "gae_lambda = 0.95\n",
    "norm_adv = False\n",
    "use_gae = False\n",
    "ppo_eps = 0.2\n",
    "num_ppo_epoch = 5\n",
    "ppo_batch_size = 40\n",
    "\n",
    "trainer = Trainer(vec_env, num_envs, env, num_tests, \n",
    "                  agent, distribution, device, optimizer, value_loss, \n",
    "                  entropy, gamma, gae_lambda, norm_adv, use_gae,\n",
    "                  ppo_eps, num_ppo_epoch, ppo_batch_size, \n",
    "                  writer)"
   ]
  },
  {
   "cell_type": "code",
   "execution_count": 7,
   "metadata": {},
   "outputs": [
    {
     "name": "stdout",
     "output_type": "stream",
     "text": [
      "training start\n",
      "num_epochs: 99, steps_per_epochs: 150, env_steps: 20\n"
     ]
    },
    {
     "name": "stderr",
     "output_type": "stream",
     "text": [
      "\r",
      "epoch_1:   0%|                                          | 0/150 [00:00<?, ?it/s]"
     ]
    },
    {
     "name": "stdout",
     "output_type": "stream",
     "text": [
      "torch.Size([160, 3])\n",
      "torch.Size([40, 3])\n",
      "torch.Size([40, 3])\n",
      "torch.Size([40, 3])\n",
      "torch.Size([40, 3])\n",
      "torch.Size([40, 3])\n"
     ]
    },
    {
     "name": "stderr",
     "output_type": "stream",
     "text": [
      "\r",
      "epoch_1:   1%|▏                                 | 1/150 [00:02<05:31,  2.22s/it]"
     ]
    },
    {
     "name": "stdout",
     "output_type": "stream",
     "text": [
      "torch.Size([160, 3])\n",
      "torch.Size([40, 3])\n",
      "torch.Size([40, 3])\n",
      "torch.Size([40, 3])\n",
      "torch.Size([40, 3])\n",
      "torch.Size([40, 3])\n"
     ]
    },
    {
     "name": "stderr",
     "output_type": "stream",
     "text": [
      "\r",
      "epoch_1:   1%|▍                                 | 2/150 [00:04<05:28,  2.22s/it]"
     ]
    },
    {
     "name": "stdout",
     "output_type": "stream",
     "text": [
      "torch.Size([160, 3])\n",
      "torch.Size([40, 3])\n",
      "torch.Size([40, 3])\n",
      "torch.Size([40, 3])\n",
      "torch.Size([40, 3])\n",
      "torch.Size([40, 3])\n"
     ]
    },
    {
     "name": "stderr",
     "output_type": "stream",
     "text": [
      "\r",
      "epoch_1:   2%|▋                                 | 3/150 [00:06<05:25,  2.22s/it]"
     ]
    },
    {
     "name": "stdout",
     "output_type": "stream",
     "text": [
      "torch.Size([160, 3])\n",
      "torch.Size([40, 3])\n",
      "torch.Size([40, 3])\n",
      "torch.Size([40, 3])\n",
      "torch.Size([40, 3])\n",
      "torch.Size([40, 3])\n"
     ]
    },
    {
     "name": "stderr",
     "output_type": "stream",
     "text": [
      "\r",
      "epoch_1:   3%|▉                                 | 4/150 [00:08<05:25,  2.23s/it]"
     ]
    },
    {
     "name": "stdout",
     "output_type": "stream",
     "text": [
      "torch.Size([160, 3])\n",
      "torch.Size([40, 3])\n",
      "torch.Size([40, 3])\n",
      "torch.Size([40, 3])\n"
     ]
    },
    {
     "name": "stderr",
     "output_type": "stream",
     "text": [
      "\r",
      "epoch_1:   3%|█▏                                | 5/150 [00:11<05:32,  2.29s/it]"
     ]
    },
    {
     "name": "stdout",
     "output_type": "stream",
     "text": [
      "torch.Size([40, 3])\n",
      "torch.Size([40, 3])\n",
      "torch.Size([160, 3])\n",
      "torch.Size([40, 3])\n",
      "torch.Size([40, 3])\n",
      "torch.Size([40, 3])\n",
      "torch.Size([40, 3])\n",
      "Traceback (most recent call last):\n",
      "  File \"/Users/Dmitry/PycharmProjects/CarRacing/venv/lib/python3.6/site-packages/IPython/core/interactiveshell.py\", line 3267, in run_code\n",
      "    exec(code_obj, self.user_global_ns, self.user_ns)\n",
      "  File \"<ipython-input-7-9589623a7721>\", line 1, in <module>\n",
      "    trainer.train(99, 150, 20)\n",
      "  File \"../src/trainer.py\", line 212, in train\n",
      "    policy_loss, value_loss, entropy = self.train_on_batch(batch)\n",
      "  File \"../src/trainer.py\", line 162, in train_on_batch\n",
      "    epoch_policy_loss, epoch_value_loss, epoch_entropy = self.ppo_epoch(*ppo_batch)\n",
      "  File \"../src/trainer.py\", line 194, in ppo_epoch\n",
      "    loss.backward()\n",
      "  File \"/Users/Dmitry/PycharmProjects/CarRacing/venv/lib/python3.6/site-packages/torch/tensor.py\", line 93, in backward\n",
      "    torch.autograd.backward(self, gradient, retain_graph, create_graph)\n",
      "  File \"/Users/Dmitry/PycharmProjects/CarRacing/venv/lib/python3.6/site-packages/torch/autograd/__init__.py\", line 90, in backward\n",
      "    allow_unreachable=True)  # allow_unreachable flag\n",
      "KeyboardInterrupt\n",
      "\n",
      "During handling of the above exception, another exception occurred:\n",
      "\n",
      "Traceback (most recent call last):\n",
      "  File \"/Users/Dmitry/PycharmProjects/CarRacing/venv/lib/python3.6/site-packages/IPython/core/interactiveshell.py\", line 2018, in showtraceback\n",
      "    stb = value._render_traceback_()\n",
      "AttributeError: 'KeyboardInterrupt' object has no attribute '_render_traceback_'\n",
      "\n",
      "During handling of the above exception, another exception occurred:\n",
      "\n",
      "Traceback (most recent call last):\n",
      "  File \"/Users/Dmitry/PycharmProjects/CarRacing/venv/lib/python3.6/site-packages/IPython/core/ultratb.py\", line 1095, in get_records\n",
      "    return _fixed_getinnerframes(etb, number_of_lines_of_context, tb_offset)\n",
      "  File \"/Users/Dmitry/PycharmProjects/CarRacing/venv/lib/python3.6/site-packages/IPython/core/ultratb.py\", line 313, in wrapped\n",
      "    return f(*args, **kwargs)\n",
      "  File \"/Users/Dmitry/PycharmProjects/CarRacing/venv/lib/python3.6/site-packages/IPython/core/ultratb.py\", line 347, in _fixed_getinnerframes\n",
      "    records = fix_frame_records_filenames(inspect.getinnerframes(etb, context))\n",
      "  File \"/Library/Frameworks/Python.framework/Versions/3.6/lib/python3.6/inspect.py\", line 1483, in getinnerframes\n",
      "    frameinfo = (tb.tb_frame,) + getframeinfo(tb, context)\n",
      "  File \"/Library/Frameworks/Python.framework/Versions/3.6/lib/python3.6/inspect.py\", line 1441, in getframeinfo\n",
      "    filename = getsourcefile(frame) or getfile(frame)\n",
      "  File \"/Library/Frameworks/Python.framework/Versions/3.6/lib/python3.6/inspect.py\", line 696, in getsourcefile\n",
      "    if getattr(getmodule(object, filename), '__loader__', None) is not None:\n",
      "  File \"/Library/Frameworks/Python.framework/Versions/3.6/lib/python3.6/inspect.py\", line 742, in getmodule\n",
      "    os.path.realpath(f)] = module.__name__\n",
      "  File \"/Library/Frameworks/Python.framework/Versions/3.6/lib/python3.6/posixpath.py\", line 386, in realpath\n",
      "    path, ok = _joinrealpath(filename[:0], filename, {})\n",
      "  File \"/Library/Frameworks/Python.framework/Versions/3.6/lib/python3.6/posixpath.py\", line 420, in _joinrealpath\n",
      "    if not islink(newpath):\n",
      "  File \"/Library/Frameworks/Python.framework/Versions/3.6/lib/python3.6/posixpath.py\", line 169, in islink\n",
      "    st = os.lstat(path)\n",
      "KeyboardInterrupt\n"
     ]
    },
    {
     "ename": "KeyboardInterrupt",
     "evalue": "",
     "output_type": "error",
     "traceback": [
      "\u001b[0;31m---------------------------------------------------------------------------\u001b[0m"
     ]
    }
   ],
   "source": [
    "trainer.train(99, 150, 20)"
   ]
  },
  {
   "cell_type": "code",
   "execution_count": null,
   "metadata": {},
   "outputs": [],
   "source": [
    "obs = env.reset()"
   ]
  },
  {
   "cell_type": "code",
   "execution_count": null,
   "metadata": {},
   "outputs": [],
   "source": [
    "agent.act([obs])"
   ]
  },
  {
   "cell_type": "code",
   "execution_count": null,
   "metadata": {},
   "outputs": [],
   "source": []
  }
 ],
 "metadata": {
  "kernelspec": {
   "display_name": "Python 3",
   "language": "python",
   "name": "python3"
  },
  "language_info": {
   "codemirror_mode": {
    "name": "ipython",
    "version": 3
   },
   "file_extension": ".py",
   "mimetype": "text/x-python",
   "name": "python",
   "nbconvert_exporter": "python",
   "pygments_lexer": "ipython3",
   "version": "3.6.4"
  }
 },
 "nbformat": 4,
 "nbformat_minor": 1
}
