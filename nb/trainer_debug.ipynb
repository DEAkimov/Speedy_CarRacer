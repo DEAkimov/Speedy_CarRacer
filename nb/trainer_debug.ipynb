{
 "cells": [
  {
   "cell_type": "code",
   "execution_count": 1,
   "metadata": {},
   "outputs": [],
   "source": [
    "!rm -rf ../logs/"
   ]
  },
  {
   "cell_type": "code",
   "execution_count": 2,
   "metadata": {},
   "outputs": [],
   "source": [
    "import sys\n",
    "sys.path.append('../')\n",
    "from src.openai_vec_env.subproc_vec_env import SubprocVecEnv\n",
    "from src.utils import EnvWrapper\n",
    "from src.network import Net\n",
    "from src.agent import Agent\n",
    "from src.trainer import Trainer"
   ]
  },
  {
   "cell_type": "code",
   "execution_count": 3,
   "metadata": {},
   "outputs": [],
   "source": [
    "import gym\n",
    "import torch\n",
    "from tensorboardX import SummaryWriter\n",
    "import numpy as np\n",
    "import matplotlib.pyplot as plt\n",
    "%matplotlib inline"
   ]
  },
  {
   "cell_type": "code",
   "execution_count": 4,
   "metadata": {},
   "outputs": [],
   "source": [
    "def make_env():\n",
    "    return EnvWrapper(gym.make('CarRacing-v0'))\n",
    "\n",
    "num_envs = 8\n",
    "vec_env = SubprocVecEnv([make_env for _ in range(num_envs)])\n",
    "env = make_env()\n",
    "writer = SummaryWriter('../logs/')"
   ]
  },
  {
   "cell_type": "code",
   "execution_count": null,
   "metadata": {},
   "outputs": [
    {
     "name": "stdout",
     "output_type": "stream",
     "text": [
      "agent initialized with beta policy\n"
     ]
    }
   ],
   "source": [
    "train_var = True\n",
    "net = Net(train_var)\n",
    "device = torch.device('cpu')\n",
    "# normal and tanh does not work\n",
    "distribution = 'beta'\n",
    "lr = 3e-4\n",
    "agent = Agent(net, device, distribution)\n",
    "optimizer = torch.optim.SGD(net.parameters(), lr)"
   ]
  },
  {
   "cell_type": "code",
   "execution_count": null,
   "metadata": {},
   "outputs": [
    {
     "name": "stdout",
     "output_type": "stream",
     "text": [
      "trainer initialized\n",
      "training parameters:\n",
      "\t value_loss: hinge, gamma: 0.995, entropy_reg: 0.0001\n",
      "\t use_gae: False, gae_lambda: 0.95, normalize_adv: False\n",
      "\t ppo_batch_size: 40, ppo_epochs: 5\n"
     ]
    }
   ],
   "source": [
    "num_tests = 3\n",
    "value_loss = 'hinge'\n",
    "entropy = 1e-4\n",
    "gamma = 0.995\n",
    "gae_lambda = 0.95\n",
    "norm_adv = False\n",
    "use_gae = False\n",
    "ppo_eps = 0.2\n",
    "num_ppo_epoch = 5\n",
    "ppo_batch_size = 40\n",
    "\n",
    "trainer = Trainer(vec_env, num_envs, env, num_tests, \n",
    "                  agent, distribution, device, optimizer, value_loss, \n",
    "                  entropy, gamma, gae_lambda, norm_adv, use_gae,\n",
    "                  ppo_eps, num_ppo_epoch, ppo_batch_size, \n",
    "                  writer)"
   ]
  },
  {
   "cell_type": "code",
   "execution_count": null,
   "metadata": {},
   "outputs": [
    {
     "name": "stdout",
     "output_type": "stream",
     "text": [
      "training start\n",
      "num_epochs: 99, steps_per_epochs: 150, env_steps: 20\n"
     ]
    },
    {
     "name": "stderr",
     "output_type": "stream",
     "text": [
      "epoch_1:  49%|████████████████▎                | 74/150 [03:11<03:43,  2.94s/it]"
     ]
    }
   ],
   "source": [
    "trainer.train(99, 150, 20)"
   ]
  }
 ],
 "metadata": {
  "kernelspec": {
   "display_name": "Python 3",
   "language": "python",
   "name": "python3"
  },
  "language_info": {
   "codemirror_mode": {
    "name": "ipython",
    "version": 3
   },
   "file_extension": ".py",
   "mimetype": "text/x-python",
   "name": "python",
   "nbconvert_exporter": "python",
   "pygments_lexer": "ipython3",
   "version": "3.6.4"
  }
 },
 "nbformat": 4,
 "nbformat_minor": 1
}
