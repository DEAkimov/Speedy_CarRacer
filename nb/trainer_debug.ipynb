{
 "cells": [
  {
   "cell_type": "code",
   "execution_count": 32,
   "metadata": {},
   "outputs": [],
   "source": [
    "import sys\n",
    "sys.path.append('../')\n",
    "from src.utils import create_env\n",
    "from src.network import Net\n",
    "from src.agent import Agent\n",
    "from src.trainer import Trainer"
   ]
  },
  {
   "cell_type": "code",
   "execution_count": 33,
   "metadata": {},
   "outputs": [],
   "source": [
    "import gym\n",
    "import torch\n",
    "from tensorboardX import SummaryWriter\n",
    "import numpy as np\n",
    "import matplotlib.pyplot as plt\n",
    "%matplotlib inline"
   ]
  },
  {
   "cell_type": "code",
   "execution_count": null,
   "metadata": {},
   "outputs": [],
   "source": [
    "num_envs = 8\n",
    "n_frames = 5\n",
    "frame_skip = 5\n",
    "vec_env, env = create_env(num_envs, n_frames, frame_skip)\n",
    "writer = SummaryWriter('../logs/trial-1')"
   ]
  },
  {
   "cell_type": "code",
   "execution_count": null,
   "metadata": {},
   "outputs": [],
   "source": [
    "noisy = True\n",
    "net = Net(n_frames, noisy)\n",
    "device = torch.device('cpu')\n",
    "distribution = 'categorical'\n",
    "lr = 3e-4\n",
    "agent = Agent(net, device)\n",
    "optimizer = torch.optim.Adam(net.parameters(), lr)"
   ]
  },
  {
   "cell_type": "code",
   "execution_count": null,
   "metadata": {},
   "outputs": [],
   "source": [
    "num_tests = 1\n",
    "value_loss = 'huber'\n",
    "entropy = 0 if noisy else 1e-1\n",
    "gamma = 0.99\n",
    "gae_lambda = 0.95\n",
    "use_gae = True\n",
    "norm_adv = False\n",
    "ppo_eps = 0.1\n",
    "num_ppo_epoch = 5\n",
    "ppo_batch_size = 20\n",
    "\n",
    "trainer = Trainer(vec_env, num_envs, env, num_tests, \n",
    "                  agent, distribution, device, optimizer, value_loss, \n",
    "                  entropy, gamma, gae_lambda, norm_adv, use_gae,\n",
    "                  ppo_eps, num_ppo_epoch, ppo_batch_size, \n",
    "                  writer)"
   ]
  },
  {
   "cell_type": "code",
   "execution_count": null,
   "metadata": {},
   "outputs": [],
   "source": [
    "warm_up = False\n",
    "trainer.train(warm_up, 20, 150, 10)"
   ]
  },
  {
   "cell_type": "code",
   "execution_count": null,
   "metadata": {},
   "outputs": [],
   "source": []
  }
 ],
 "metadata": {
  "kernelspec": {
   "display_name": "Python 3",
   "language": "python",
   "name": "python3"
  },
  "language_info": {
   "codemirror_mode": {
    "name": "ipython",
    "version": 3
   },
   "file_extension": ".py",
   "mimetype": "text/x-python",
   "name": "python",
   "nbconvert_exporter": "python",
   "pygments_lexer": "ipython3",
   "version": "3.6.4"
  }
 },
 "nbformat": 4,
 "nbformat_minor": 1
}
