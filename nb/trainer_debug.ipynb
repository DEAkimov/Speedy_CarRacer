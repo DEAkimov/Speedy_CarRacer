{
 "cells": [
  {
   "cell_type": "code",
   "execution_count": 1,
   "metadata": {},
   "outputs": [],
   "source": [
    "import sys\n",
    "sys.path.append('../')\n",
    "from src.utils import create_env\n",
    "from src.network import Net\n",
    "from src.agent import Agent\n",
    "from src.trainer import Trainer"
   ]
  },
  {
   "cell_type": "code",
   "execution_count": 2,
   "metadata": {},
   "outputs": [],
   "source": [
    "import gym\n",
    "import torch\n",
    "from tensorboardX import SummaryWriter\n",
    "import numpy as np\n",
    "import matplotlib.pyplot as plt\n",
    "%matplotlib inline"
   ]
  },
  {
   "cell_type": "code",
   "execution_count": 3,
   "metadata": {},
   "outputs": [
    {
     "name": "stdout",
     "output_type": "stream",
     "text": [
      "env_pool of size 8 and test env initialized.\n"
     ]
    }
   ],
   "source": [
    "num_envs = 8\n",
    "n_frames = 5\n",
    "frame_skip = 5\n",
    "vec_env, env = create_env(num_envs, n_frames, frame_skip)\n",
    "writer = SummaryWriter('../logs/trial-1')"
   ]
  },
  {
   "cell_type": "code",
   "execution_count": 4,
   "metadata": {},
   "outputs": [
    {
     "name": "stdout",
     "output_type": "stream",
     "text": [
      "network initialized. Noisy: True, number of parameters: 1673340\n",
      "Net(\n",
      "  (conv): Sequential(\n",
      "    (0): Conv2d(5, 16, kernel_size=(8, 8), stride=(4, 4))\n",
      "    (1): SELU()\n",
      "    (2): Conv2d(16, 32, kernel_size=(4, 4), stride=(2, 2))\n",
      "    (3): SELU()\n",
      "    (4): Conv2d(32, 64, kernel_size=(3, 3), stride=(1, 1))\n",
      "    (5): SELU()\n",
      "  )\n",
      "  (projector): NoisyLinear(in_features=1344, out_features=512)\n",
      "  (policy_stream): NoisyLinear(in_features=512, out_features=128)\n",
      "  (policy_layer): NoisyLinear(in_features=128, out_features=5)\n",
      "  (value_stream): NoisyLinear(in_features=512, out_features=128)\n",
      "  (value_layer): NoisyLinear(in_features=128, out_features=1)\n",
      ")\n",
      "agent initialized with categorical policy\n"
     ]
    }
   ],
   "source": [
    "noisy = True\n",
    "net = Net(n_frames, noisy)\n",
    "device = torch.device('cpu')\n",
    "distribution = 'categorical'\n",
    "lr = 3e-4\n",
    "agent = Agent(net, device)\n",
    "optimizer = torch.optim.Adam(net.parameters(), lr)"
   ]
  },
  {
   "cell_type": "code",
   "execution_count": null,
   "metadata": {},
   "outputs": [
    {
     "name": "stdout",
     "output_type": "stream",
     "text": [
      "trainer initialized\n",
      "training parameters:\n",
      "\t value_loss: huber, gamma: 0.99, entropy_reg: 0\n",
      "\t use_gae: True, gae_lambda: 0.95, normalize_adv: False\n",
      "\t ppo_batch_size: 20, ppo_epochs: 5\n"
     ]
    }
   ],
   "source": [
    "num_tests = 1\n",
    "value_loss = 'huber'\n",
    "entropy = 0 if noisy else 1e-1\n",
    "gamma = 0.99\n",
    "gae_lambda = 0.95\n",
    "use_gae = True\n",
    "norm_adv = False\n",
    "ppo_eps = 0.1\n",
    "num_ppo_epoch = 5\n",
    "ppo_batch_size = 20\n",
    "\n",
    "trainer = Trainer(vec_env, num_envs, env, num_tests, \n",
    "                  agent, distribution, device, optimizer, value_loss, \n",
    "                  entropy, gamma, gae_lambda, norm_adv, use_gae,\n",
    "                  ppo_eps, num_ppo_epoch, ppo_batch_size, \n",
    "                  writer)"
   ]
  },
  {
   "cell_type": "code",
   "execution_count": null,
   "metadata": {},
   "outputs": [
    {
     "name": "stdout",
     "output_type": "stream",
     "text": [
      "training start\n",
      "num_epochs: 20, steps_per_epochs: 150, env_steps: 10\n"
     ]
    },
    {
     "name": "stderr",
     "output_type": "stream",
     "text": [
      "epoch_1: 100%|████████████████████████████████| 150/150 [11:31<00:00,  4.49s/it]\n",
      "epoch_2: 100%|████████████████████████████████| 150/150 [12:10<00:00,  4.20s/it]\n",
      "epoch_3: 100%|████████████████████████████████| 150/150 [12:23<00:00,  4.64s/it]\n",
      "epoch_4:  99%|███████████████████████████████▌| 148/150 [12:11<00:09,  4.79s/it]"
     ]
    }
   ],
   "source": [
    "warm_up = False\n",
    "trainer.train(warm_up, 20, 150, 10)"
   ]
  },
  {
   "cell_type": "code",
   "execution_count": null,
   "metadata": {},
   "outputs": [],
   "source": []
  }
 ],
 "metadata": {
  "kernelspec": {
   "display_name": "Python 3",
   "language": "python",
   "name": "python3"
  },
  "language_info": {
   "codemirror_mode": {
    "name": "ipython",
    "version": 3
   },
   "file_extension": ".py",
   "mimetype": "text/x-python",
   "name": "python",
   "nbconvert_exporter": "python",
   "pygments_lexer": "ipython3",
   "version": "3.6.4"
  }
 },
 "nbformat": 4,
 "nbformat_minor": 1
}
