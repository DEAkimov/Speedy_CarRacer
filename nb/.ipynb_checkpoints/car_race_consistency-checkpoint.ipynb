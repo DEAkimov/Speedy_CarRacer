{
 "cells": [
  {
   "cell_type": "code",
   "execution_count": 1,
   "metadata": {
    "collapsed": true
   },
   "outputs": [],
   "source": [
    "import gym\n",
    "import numpy as np\n",
    "from matplotlib.pyplot import imshow\n",
    "from PIL import Image\n",
    "%matplotlib inline"
   ]
  },
  {
   "cell_type": "code",
   "execution_count": 2,
   "metadata": {},
   "outputs": [],
   "source": [
    "ENV_NAME = 'CarRacing-v0'"
   ]
  },
  {
   "cell_type": "code",
   "execution_count": 3,
   "metadata": {},
   "outputs": [
    {
     "name": "stdout",
     "output_type": "stream",
     "text": [
      "\u001b[33mWARN: gym.spaces.Box autodetected dtype as <class 'numpy.float32'>. Please provide explicit dtype.\u001b[0m\n",
      "Track generation: 1234..1551 -> 317-tiles track\n",
      "retry to generate track (normal if there are not many of this messages)\n",
      "Track generation: 1225..1535 -> 310-tiles track\n"
     ]
    },
    {
     "data": {
      "text/plain": [
       "45.46633369868303"
      ]
     },
     "execution_count": 3,
     "metadata": {},
     "output_type": "execute_result"
    },
    {
     "data": {
      "image/png": "[encoded data removed]",
      "text/plain": [
       "<matplotlib.figure.Figure at 0xde00390>"
      ]
     },
     "metadata": {},
     "output_type": "display_data"
    }
   ],
   "source": [
    "# Corrupt case\n",
    "env = gym.make(ENV_NAME)\n",
    "env.seed(123)\n",
    "env.reset()\n",
    "for i in range(10):\n",
    "    s,_,_,_ = env.step([0,0,0])\n",
    "env.close()\n",
    "imshow(s)\n",
    "np.std(s)"
   ]
  },
  {
   "cell_type": "code",
   "execution_count": 4,
   "metadata": {},
   "outputs": [
    {
     "name": "stdout",
     "output_type": "stream",
     "text": [
      "\u001b[33mWARN: gym.spaces.Box autodetected dtype as <class 'numpy.float32'>. Please provide explicit dtype.\u001b[0m\n",
      "Track generation: 1234..1551 -> 317-tiles track\n",
      "retry to generate track (normal if there are not many of this messages)\n",
      "Track generation: 1225..1535 -> 310-tiles track\n"
     ]
    },
    {
     "data": {
      "text/plain": [
       "73.41721987858776"
      ]
     },
     "execution_count": 4,
     "metadata": {},
     "output_type": "execute_result"
    },
    {
     "data": {
      "image/png": "[encoded data removed]",
      "text/plain": [
       "<matplotlib.figure.Figure at 0x120eb320>"
      ]
     },
     "metadata": {},
     "output_type": "display_data"
    }
   ],
   "source": [
    "# Good case with rendering\n",
    "env = gym.make(ENV_NAME)\n",
    "env.seed(123)\n",
    "env.reset()\n",
    "for i in range(10):\n",
    "    s,_,_,_ = env.step([0,0,0])\n",
    "    env.render()\n",
    "env.close()\n",
    "imshow(s)\n",
    "np.std(s)"
   ]
  },
  {
   "cell_type": "code",
   "execution_count": 5,
   "metadata": {},
   "outputs": [
    {
     "name": "stdout",
     "output_type": "stream",
     "text": [
      "\u001b[33mWARN: gym.spaces.Box autodetected dtype as <class 'numpy.float32'>. Please provide explicit dtype.\u001b[0m\n",
      "Track generation: 1234..1551 -> 317-tiles track\n",
      "retry to generate track (normal if there are not many of this messages)\n",
      "Track generation: 1225..1535 -> 310-tiles track\n"
     ]
    },
    {
     "data": {
      "text/plain": [
       "73.41721987858776"
      ]
     },
     "execution_count": 5,
     "metadata": {},
     "output_type": "execute_result"
    },
    {
     "data": {
      "image/png": "[encoded data removed]",
      "text/plain": [
       "<matplotlib.figure.Figure at 0x12514ac8>"
      ]
     },
     "metadata": {},
     "output_type": "display_data"
    }
   ],
   "source": [
    "# Good case with just dispatch_events()\n",
    "env = gym.make(ENV_NAME)\n",
    "env.seed(123)\n",
    "env.reset()\n",
    "for i in range(10):\n",
    "    s,_,_,_ = env.step([0,0,0])\n",
    "    env.env.viewer.window.dispatch_events()\n",
    "env.close()\n",
    "imshow(s)\n",
    "np.std(s)"
   ]
  },
  {
   "cell_type": "code",
   "execution_count": null,
   "metadata": {
    "collapsed": true
   },
   "outputs": [],
   "source": []
  }
 ],
 "metadata": {
  "kernelspec": {
   "display_name": "Python 3",
   "language": "python",
   "name": "python3"
  },
  "language_info": {
   "codemirror_mode": {
    "name": "ipython",
    "version": 3
   },
   "file_extension": ".py",
   "mimetype": "text/x-python",
   "name": "python",
   "nbconvert_exporter": "python",
   "pygments_lexer": "ipython3",
   "version": "3.6.4"
  }
 },
 "nbformat": 4,
 "nbformat_minor": 2
}
